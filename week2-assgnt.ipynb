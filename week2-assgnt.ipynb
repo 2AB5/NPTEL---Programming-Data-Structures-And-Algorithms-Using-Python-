{
 "cells": [
  {
   "cell_type": "code",
   "execution_count": null,
   "metadata": {},
   "outputs": [],
   "source": [
    "#WEEK-2 PROGRAMMING ASSIGNMENT : "
   ]
  },
  {
   "cell_type": "code",
   "execution_count": 1,
   "metadata": {},
   "outputs": [
    {
     "name": "stdout",
     "output_type": "stream",
     "text": [
      "863\n"
     ]
    }
   ],
   "source": [
    "\"\"\"1 Write a function intreverse(n) that takes as input a postive integer n and \n",
    "returns the integer obtained by reversing the digits in n.\"\"\"\n",
    "\n",
    "def intreverse(n):\n",
    " r=0\n",
    " while ( n > 0 ):\n",
    "  last = n % 10\n",
    "  r = r * 10 + last\n",
    "  n = n // 10\n",
    " return r\n",
    "#to check\n",
    "print(intreverse(368))"
   ]
  },
  {
   "cell_type": "code",
   "execution_count": 4,
   "metadata": {},
   "outputs": [
    {
     "data": {
      "text/plain": [
       "False"
      ]
     },
     "execution_count": 4,
     "metadata": {},
     "output_type": "execute_result"
    }
   ],
   "source": [
    "\"\"\"2. Write a function matched(s) that takes as input a string s and checks if the brackets \"(\" and \")\" in s are matched: that is, every \"(\" has a matching \")\" after it and every \")\" has a matching \"(\" before it. \n",
    "Your function should ignore all other symbols that appear in s. Your function should return True if s has matched brackets and False if it does not.\"\"\"\n",
    "\n",
    "def matched(s):\n",
    "    brackets_ct = 0\n",
    "    i=0\n",
    "    while brackets_ct>=0 and i<len(s):\n",
    "        if s[i] == '(':\n",
    "                  brackets_ct+=1\n",
    "        elif s[i]== ')':\n",
    "                  brackets_ct-=1\n",
    "        i+=1\n",
    "    if brackets_ct==0:\n",
    "        return True\n",
    "    else:\n",
    "        return False\n",
    "matched(\"(7)(a\")"
   ]
  },
  {
   "cell_type": "code",
   "execution_count": 5,
   "metadata": {},
   "outputs": [
    {
     "name": "stdout",
     "output_type": "stream",
     "text": [
      "8\n"
     ]
    }
   ],
   "source": [
    "\"\"\"\"3.Write a function sumprimes(l) that takes as input a list of integers l and retuns the sum of all the prime numbers in l.\"\"\"\n",
    "\n",
    "def sumprimes(l):\n",
    "    def chk_prime(num):\n",
    "        if num<2:\n",
    "            return False\n",
    "        for i in range(2,int(num**0.5)+1):\n",
    "            if not num % i:\n",
    "                return False\n",
    "        return True\n",
    "        \n",
    "    total = 0\n",
    "    for i in l:\n",
    "        if chk_prime(i):\n",
    "            total+=i\n",
    "    return total\n",
    "print(sumprimes([-3,-5,3,5]))"
   ]
  },
  {
   "cell_type": "code",
   "execution_count": null,
   "metadata": {},
   "outputs": [],
   "source": []
  }
 ],
 "metadata": {
  "kernelspec": {
   "display_name": "Python 3.10.5 64-bit",
   "language": "python",
   "name": "python3"
  },
  "language_info": {
   "codemirror_mode": {
    "name": "ipython",
    "version": 3
   },
   "file_extension": ".py",
   "mimetype": "text/x-python",
   "name": "python",
   "nbconvert_exporter": "python",
   "pygments_lexer": "ipython3",
   "version": "3.10.5"
  },
  "orig_nbformat": 4,
  "vscode": {
   "interpreter": {
    "hash": "55844c8a2a97903659958e7db12e87f425748516c1a48d79f1d005122f146014"
   }
  }
 },
 "nbformat": 4,
 "nbformat_minor": 2
}
